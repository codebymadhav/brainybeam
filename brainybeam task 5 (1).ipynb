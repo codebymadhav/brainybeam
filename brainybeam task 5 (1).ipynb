{
 "cells": [
  {
   "cell_type": "code",
   "execution_count": 10,
   "id": "604de10a-e4b1-44d3-a259-c0e591fdcf12",
   "metadata": {},
   "outputs": [
    {
     "name": "stdout",
     "output_type": "stream",
     "text": [
      "  category  value  Transformed_Value\n",
      "0        A     10               -5.0\n",
      "1        A     20                5.0\n",
      "2        B     15               -5.0\n",
      "3        B     25                5.0\n",
      "4        C     30               -5.0\n",
      "5        C     40                5.0\n"
     ]
    }
   ],
   "source": [
    "import pandas as pd\n",
    "\n",
    "data = {'category': ['A', 'A', 'B', 'B', 'C', 'C'],\n",
    "        'value': [10, 20, 15, 25, 30, 40]}\n",
    "\n",
    "df = pd.DataFrame(data)\n",
    "\n",
    "def cus_transform(x):\n",
    "    return x - x.mean()\n",
    "\n",
    "# traform and grup by\n",
    "df['Transformed_Value'] = df.groupby('category')['value'].transform(cus_transform)\n",
    "\n",
    "print(df)\n"
   ]
  },
  {
   "cell_type": "code",
   "execution_count": null,
   "id": "a85d4856-b956-4dc1-abf2-0c447a32ece2",
   "metadata": {},
   "outputs": [],
   "source": []
  }
 ],
 "metadata": {
  "kernelspec": {
   "display_name": "Python 3 (ipykernel)",
   "language": "python",
   "name": "python3"
  },
  "language_info": {
   "codemirror_mode": {
    "name": "ipython",
    "version": 3
   },
   "file_extension": ".py",
   "mimetype": "text/x-python",
   "name": "python",
   "nbconvert_exporter": "python",
   "pygments_lexer": "ipython3",
   "version": "3.11.5"
  }
 },
 "nbformat": 4,
 "nbformat_minor": 5
}

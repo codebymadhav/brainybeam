{
 "cells": [
  {
   "cell_type": "code",
   "execution_count": 4,
   "id": "32b34078-2fe5-490b-8a17-542d7615bfec",
   "metadata": {},
   "outputs": [
    {
     "name": "stdout",
     "output_type": "stream",
     "text": [
      "Eigenvalues:  [24.93205947+0.j        -4.08856741+0.j         2.91364396-2.8386576j]\n",
      "Eigenvectors:  [[-0.02736405+0.j          0.00734528+0.j         -0.02555902+0.00776535j]\n",
      " [-0.0295843 +0.j         -0.01909582+0.j         -0.00873267+0.03173129j]\n",
      " [-0.03627852+0.j         -0.03916328+0.j          0.01019729+0.02748097j]\n",
      " ...\n",
      " [-0.02842991+0.j          0.04425595+0.j          0.01795925-0.02159277j]\n",
      " [-0.03124162+0.j          0.07324825+0.j         -0.01273506-0.00554907j]\n",
      " [-0.0266897 +0.j          0.03093279+0.j          0.00591308-0.00263135j]]\n"
     ]
    }
   ],
   "source": [
    "import numpy as np\n",
    "from scipy.sparse import random\n",
    "from scipy.sparse.linalg import eigs\n",
    "\n",
    "# here i created a sparse matrix with 5% nonzero values\n",
    "n = 1000\n",
    "density = 0.05  \n",
    "A = random(n, n, density=density, format='csr') \n",
    "\n",
    "# largest 3\n",
    "eigenvalues, eigenvectors = eigs(A, k=3)\n",
    "\n",
    "# Print results\n",
    "print(\"Eigenvalues: \", eigenvalues)\n",
    "print(\"Eigenvectors: \", eigenvectors)\n"
   ]
  },
  {
   "cell_type": "code",
   "execution_count": null,
   "id": "3f3f4101-a961-4dd0-b6ac-6d7159fd45d9",
   "metadata": {},
   "outputs": [],
   "source": []
  }
 ],
 "metadata": {
  "kernelspec": {
   "display_name": "Python 3 (ipykernel)",
   "language": "python",
   "name": "python3"
  },
  "language_info": {
   "codemirror_mode": {
    "name": "ipython",
    "version": 3
   },
   "file_extension": ".py",
   "mimetype": "text/x-python",
   "name": "python",
   "nbconvert_exporter": "python",
   "pygments_lexer": "ipython3",
   "version": "3.11.5"
  }
 },
 "nbformat": 4,
 "nbformat_minor": 5
}

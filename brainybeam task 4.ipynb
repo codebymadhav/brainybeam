{
 "cells": [
  {
   "cell_type": "code",
   "execution_count": 3,
   "id": "cd565a75-c9f2-476b-a2c5-51f3227df53f",
   "metadata": {},
   "outputs": [
    {
     "name": "stdout",
     "output_type": "stream",
     "text": [
      "-6.0\n"
     ]
    }
   ],
   "source": [
    "import numpy as np\n",
    "\n",
    "a=np.array([[4, 3], \n",
    "              [6, 3]])\n",
    "\n",
    "\n",
    "dett = np.linalg.det(a)\n",
    "\n",
    "print(dett)\n"
   ]
  },
  {
   "cell_type": "code",
   "execution_count": null,
   "id": "fb744566-021d-45a4-989b-b707a81f61e9",
   "metadata": {},
   "outputs": [],
   "source": []
  }
 ],
 "metadata": {
  "kernelspec": {
   "display_name": "Python 3 (ipykernel)",
   "language": "python",
   "name": "python3"
  },
  "language_info": {
   "codemirror_mode": {
    "name": "ipython",
    "version": 3
   },
   "file_extension": ".py",
   "mimetype": "text/x-python",
   "name": "python",
   "nbconvert_exporter": "python",
   "pygments_lexer": "ipython3",
   "version": "3.11.5"
  }
 },
 "nbformat": 4,
 "nbformat_minor": 5
}

{
 "cells": [
  {
   "cell_type": "code",
   "execution_count": 6,
   "id": "fbcec160-d147-429e-abdf-3150a2e01fe0",
   "metadata": {},
   "outputs": [
    {
     "name": "stdout",
     "output_type": "stream",
     "text": [
      "Original Array:  [1 2 3 4 5]\n",
      "Result after applying function:  [1 4 9 16 25]\n"
     ]
    }
   ],
   "source": [
    "import numpy as np\n",
    "\n",
    "def sqrt(x):\n",
    "    return x**2\n",
    "\n",
    "\n",
    "ufunc_custom = np.frompyfunc(sqrt, 1, 1)  # 1 input, 1 output\n",
    "\n",
    "arr = np.array([1, 2, 3, 4, 5])\n",
    "\n",
    "result = ufunc_custom(arr)\n",
    "\n",
    "# Print results\n",
    "print(\"Original Array: \", arr)\n",
    "print(\"Result after applying function: \", result)\n"
   ]
  },
  {
   "cell_type": "code",
   "execution_count": null,
   "id": "0a8cb2db-6ed7-473e-9298-5f2a64c3981a",
   "metadata": {},
   "outputs": [],
   "source": []
  }
 ],
 "metadata": {
  "kernelspec": {
   "display_name": "Python 3 (ipykernel)",
   "language": "python",
   "name": "python3"
  },
  "language_info": {
   "codemirror_mode": {
    "name": "ipython",
    "version": 3
   },
   "file_extension": ".py",
   "mimetype": "text/x-python",
   "name": "python",
   "nbconvert_exporter": "python",
   "pygments_lexer": "ipython3",
   "version": "3.11.5"
  }
 },
 "nbformat": 4,
 "nbformat_minor": 5
}

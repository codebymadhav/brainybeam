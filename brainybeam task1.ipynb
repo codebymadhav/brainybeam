{
 "cells": [
  {
   "cell_type": "code",
   "execution_count": 3,
   "id": "80de4fb4-9918-4893-a6b6-b46a2543676f",
   "metadata": {},
   "outputs": [
    {
     "name": "stdout",
     "output_type": "stream",
     "text": [
      "U matrix:  [[-0.70710678 -0.70710678]\n",
      " [-0.70710678  0.70710678]]\n",
      "Singular values:  [5. 3.]\n",
      "transpose matrix:  [[-7.07106781e-01 -7.07106781e-01 -6.47932334e-17]\n",
      " [-2.35702260e-01  2.35702260e-01 -9.42809042e-01]\n",
      " [-6.66666667e-01  6.66666667e-01  3.33333333e-01]]\n",
      "Reconstructed matrix:  [[ 3.  2.  2.]\n",
      " [ 2.  3. -2.]]\n"
     ]
    }
   ],
   "source": [
    "import numpy as np\n",
    "\n",
    "# Create a sample matrix\n",
    "a=np.array([[3, 2, 2],[2, 3, -2]])\n",
    "\n",
    "#svd\n",
    "u,s,tm = np.linalg.svd(a)\n",
    "\n",
    "\n",
    "S_matrix = np.zeros((u.shape[1], tm.shape[0]))\n",
    "np.fill_diagonal(S_matrix, S)\n",
    "\n",
    "print(\"U matrix: \",u)\n",
    "print(\"Singular values: \",s)\n",
    "print(\"transpose matrix: \",tm)\n",
    "print(\"Reconstructed matrix: \", np.dot(u, np.dot(S_matrix, tm)))\n"
   ]
  },
  {
   "cell_type": "code",
   "execution_count": null,
   "id": "5016c4ce-69d1-49b0-bdc1-ca3fbf61ed5c",
   "metadata": {},
   "outputs": [],
   "source": []
  }
 ],
 "metadata": {
  "kernelspec": {
   "display_name": "Python 3 (ipykernel)",
   "language": "python",
   "name": "python3"
  },
  "language_info": {
   "codemirror_mode": {
    "name": "ipython",
    "version": 3
   },
   "file_extension": ".py",
   "mimetype": "text/x-python",
   "name": "python",
   "nbconvert_exporter": "python",
   "pygments_lexer": "ipython3",
   "version": "3.11.5"
  }
 },
 "nbformat": 4,
 "nbformat_minor": 5
}
